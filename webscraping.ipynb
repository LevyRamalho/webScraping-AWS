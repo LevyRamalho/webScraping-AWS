{
 "cells": [
  {
   "cell_type": "code",
   "execution_count": 1,
   "metadata": {},
   "outputs": [],
   "source": [
    "from bs4 import BeautifulSoup\n",
    "from selenium import webdriver\n",
    "from selenium.webdriver.common.by import By\n",
    "from selenium.webdriver.support.ui import WebDriverWait\n",
    "from selenium.webdriver.support import expected_conditions as EC\n",
    "from selenium.webdriver.firefox.options import Options\n",
    "import json\n",
    "import pandas as pd\n",
    "import boto3"
   ]
  },
  {
   "cell_type": "markdown",
   "metadata": {},
   "source": [
    "## Extração"
   ]
  },
  {
   "cell_type": "code",
   "execution_count": null,
   "metadata": {},
   "outputs": [],
   "source": [
    "\n",
    "\n",
    "# 1. Configurações iniciais \n",
    "\n",
    "url = 'https://stats.nba.com/players/traditional/?PerMode=Totals&Season=2019-20&SeasonType=Regular%20Season&sort=PLAYER_NAME&dir=-1'\n",
    "option = Options()\n",
    "option.headless = True\n",
    "driver = webdriver.Firefox()\n",
    "driver.get(url)\n",
    "\n",
    "\n",
    "    # Rolar a página até o elemento ficar visivel\n",
    "elemento = driver.find_element(By.CLASS_NAME, \"Block_blockContent__6iJ_n\")\n",
    "driver.execute_script(\"arguments[0].scrollIntoView(true);\", elemento)\n",
    "\n",
    "# 2. Acesar o DropDown para exibir todos os resultados da table que quero recuperar\n",
    "element = WebDriverWait(driver, 25).until(\n",
    "    EC.visibility_of_element_located((By.XPATH, \"//*[@id='__next']/div[2]/div[2]/div[3]/section[2]/div/div[2]/div[2]/div[1]/div[3]/div/label/div/select\")))\n",
    "\n",
    "# 2.1 Localizar todos os elementos filhos da dropdown\n",
    "elements = element.find_elements(By.TAG_NAME,'option')\n",
    "\n",
    "# 2.2. Selecionar o segundo elemento da dropdown (ALL)\n",
    "second_element = elements[0]\n",
    "second_element.click()\n",
    "\n",
    "# 3. Procurar a Table de interesse com o option do Dropdown selecionado\n",
    "element = driver.find_element(By.CLASS_NAME, \"Crom_base__f0niE\")\n",
    "\n",
    "# 3.1. Pegar o HTML parsear ele usando a bibliotea BeautifulSoup \n",
    "html_content = element.get_attribute('outerHTML')\n",
    "soup = BeautifulSoup(html_content, 'html.parser')\n",
    "table = soup.find(name='table')\n",
    "\n",
    "# 7. Data Structure Conversion (Estruturar conteúdo em um Data Frame) - Pandas\n",
    "df_full = pd.read_html(str(table))[0]\n",
    "\n",
    "driver.quit()\n"
   ]
  },
  {
   "cell_type": "markdown",
   "metadata": {},
   "source": [
    "## Tratando os dados"
   ]
  },
  {
   "cell_type": "code",
   "execution_count": 26,
   "metadata": {},
   "outputs": [],
   "source": [
    "# 1. Excluindo as colunas vazias \n",
    "df_full = df_full.dropna(axis=1)\n",
    "\n",
    "# 2. Renomeando os nomes das colunas \n",
    "\n",
    "df_full = df_full.rename(columns={\n",
    "    'GP': 'Games_played',\n",
    "    \"W\": 'Wins',\n",
    "    \"L\": 'Losses',\n",
    "    \"Min\": 'Minutes_played',\n",
    "    \"PTS\": 'Points',\n",
    "    \"FGM\": 'Field_goals_made',\n",
    "    \"FGA\": 'Field_goals_attempted',\n",
    "    \"FG%\": 'Field_goals_percentage',\n",
    "    \"3PM\": '3_points_field_goals__made',\n",
    "    \"3PA\": '3_point_field_goals_attempted',\n",
    "    \"3P%\": '3_point_field_goals_percentage',\n",
    "    \"FTM\": 'Free_throws_made',\n",
    "    \"FTA\": 'Free_throws_attempted',\n",
    "    \"FT%\": 'Free_throws_percentage',\n",
    "    \"OREB\": 'Offensive_rebounds',\n",
    "    \"DREB\": 'defensive_rebounds',\n",
    "    \n",
    "})\n",
    "df_full = df_full.drop(columns=['Unnamed: 0'], axis=1)\n",
    "\n",
    "dicionario = df_full.to_dict('records')\n",
    "\n",
    "\n",
    "# Converter e salvar em um arquivo JSON\n",
    "with open('dados.json', 'w', encoding='utf-8') as jp:\n",
    "    js = json.dumps(dicionario, indent=4)\n",
    "    jp.write(js)"
   ]
  },
  {
   "cell_type": "markdown",
   "metadata": {},
   "source": [
    "## Subindo o Arquivo JSON em um Bucket AWS"
   ]
  },
  {
   "cell_type": "code",
   "execution_count": null,
   "metadata": {},
   "outputs": [],
   "source": [
    "# 1. Inicializando o serviço S3 da AWS. \n",
    "s3 = boto3.resource(\n",
    "    service_name='s3',\n",
    "    region_name = 'sa-east-1',\n",
    "    aws_access_key_id = key_id,\n",
    "    aws_secret_access_key = access_key\n",
    ")\n",
    "\n",
    "# 2. Upload do arquivo desejado no Bucket \n",
    "s3.Bucket(\"webscraping2023\").upload_file('dados.json',\"dados.json\")"
   ]
  }
 ],
 "metadata": {
  "kernelspec": {
   "display_name": "Python 3",
   "language": "python",
   "name": "python3"
  },
  "language_info": {
   "codemirror_mode": {
    "name": "ipython",
    "version": 3
   },
   "file_extension": ".py",
   "mimetype": "text/x-python",
   "name": "python",
   "nbconvert_exporter": "python",
   "pygments_lexer": "ipython3",
   "version": "3.11.4"
  }
 },
 "nbformat": 4,
 "nbformat_minor": 2
}
